{
 "cells": [
  {
   "cell_type": "code",
   "execution_count": 1,
   "metadata": {},
   "outputs": [],
   "source": [
    "# 전체 학생의 수는 2명 이상 30명 이하입니다.\n",
    "# 체육복을 도난당한 학생의 수는 1명 이상 n명 이하이고 중복되는 번호는 없습니다.\n",
    "# 여벌의 체육복을 가져온 학생의 수는 1명 이상 n명 이하이고 중복되는 번호는 없습니다.\n",
    "# 여벌 체육복이 있는 학생만 다른 학생에게 체육복을 빌려줄 수 있습니다.\n",
    "# 여벌 체육복을 가져온 학생이 체육복을 도난당했을 수 있습니다. 이때 이 학생은 체육복을 하나만 도난당했다고 가정하며, 남은 체육복이 하나이기에 다른 학생에게는 체육복을 빌려줄 수 없습니다."
   ]
  },
  {
   "cell_type": "code",
   "execution_count": 2,
   "metadata": {},
   "outputs": [],
   "source": [
    "# 첫번째시도 \n",
    "# 결과 : 실패\n",
    "# 이유 : lost = [1,2], reserve[2,3] 의 케이스 마지막조건에 부합할 수 없음 2번이 여벌의 체육복을 자신이 입어야하는데 1번이 빌리게됨\n",
    "# 해결방안 : lost의 학생들이 먼저 reserve에서 자신을 찾도록 for loop를 돌린다\n",
    "\n",
    "def solution(n, lost, reserve):\n",
    "    answer = n-len(lost)\n",
    "\n",
    "    for i in lost :\n",
    "        if i in reserve :\n",
    "            answer += 1\n",
    "            reserve.remove(i)           \n",
    "        elif i-1 in reserve :\n",
    "            answer += 1\n",
    "            reserve.remove(i-1)\n",
    "        elif i+1 in reserve :\n",
    "            answer += 1\n",
    "            reserve.remove(i+1)\n",
    "    return answer"
   ]
  },
  {
   "cell_type": "code",
   "execution_count": 97,
   "metadata": {},
   "outputs": [],
   "source": [
    "# 두번째시도\n",
    "# 결과 : 실패\n",
    "# 이유 : lost = [1,2,3], reserve = [1,2,3] 일때 1,3 만 탐색하고 2는 남아있음 원인모르겠음\n",
    "# 해결방안 : lost에서 바로빼지 않고 list_diff라는 새로운 리스트에 append 후 나중에 lost와 차집합을 구함\n",
    "def solution(n, lost, reserve):\n",
    "    answer = n-len(lost)\n",
    "\n",
    "    for i in lost :\n",
    "       if i in reserve :\n",
    "           answer += 1\n",
    "           lost.remove(i)\n",
    "           reserve.remove(i)\n",
    "           \n",
    "\n",
    "    for i in lost :\n",
    "        if i-1 in reserve :\n",
    "            answer += 1\n",
    "            reserve.remove(i-1)\n",
    "        elif i+1 in reserve :\n",
    "            answer += 1\n",
    "            reserve.remove(i+1)\n",
    "\n",
    "    return answer"
   ]
  },
  {
   "cell_type": "code",
   "execution_count": null,
   "metadata": {},
   "outputs": [],
   "source": [
    "# 세번째시도\n",
    "# 결과 : 성공\n",
    "# list의 차집합 구하는 방법이용, 효율적인진 모르곘음\n",
    "\n",
    "def solution(n, lost, reserve):\n",
    "    answer = n-len(lost)\n",
    "    list_diff = []\n",
    "\n",
    "    for i in lost :\n",
    "       if i in reserve :\n",
    "           answer += 1\n",
    "           reserve.remove(i)\n",
    "           list_diff.append(i)\n",
    "\n",
    "    lost = list(set(lost).difference(list_diff))\n",
    "\n",
    "    for i in lost :\n",
    "        if i-1 in reserve :\n",
    "            answer += 1\n",
    "            reserve.remove(i-1)\n",
    "        elif i+1 in reserve :\n",
    "            answer += 1\n",
    "            reserve.remove(i+1)\n",
    "\n",
    "    return answer"
   ]
  }
 ],
 "metadata": {
  "language_info": {
   "codemirror_mode": {
    "name": "ipython",
    "version": 3
   },
   "file_extension": ".py",
   "mimetype": "text/x-python",
   "name": "python",
   "nbconvert_exporter": "python",
   "pygments_lexer": "ipython3",
   "version": "3.7.4-final"
  },
  "orig_nbformat": 2,
  "kernelspec": {
   "name": "python37464bitbaseconda3e0aee77590f4581a230f2d96c336508",
   "display_name": "Python 3.7.4 64-bit ('base': conda)"
  }
 },
 "nbformat": 4,
 "nbformat_minor": 2
}