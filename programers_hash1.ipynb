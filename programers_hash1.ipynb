{
 "cells": [
  {
   "source": [
    "participant = [\"mislav\", \"stanko\", \"mislav\", \"ana\"]\n",
    "completion = [\"stanko\", \"ana\", \"mislav\"]"
   ],
   "cell_type": "code",
   "outputs": [],
   "metadata": {},
   "execution_count": 38
  },
  {
   "cell_type": "code",
   "execution_count": 37,
   "metadata": {},
   "outputs": [],
   "source": [
    "%reset"
   ]
  },
  {
   "cell_type": "code",
   "execution_count": 41,
   "metadata": {},
   "outputs": [],
   "source": [
    "def solution(participant, completion) :\n",
    "    answer = []\n",
    "    dic = {}\n",
    "    for part in participant :\n",
    "        if part in dic :\n",
    "            dic[part] += 1\n",
    "        else :\n",
    "            dic[part] = 1\n",
    "    for comp in completion :\n",
    "        dic[comp] -= 1\n",
    "\n",
    "    for name, left in dic.items() :\n",
    "        if left > 0 :\n",
    "            for i in range(left) :\n",
    "                answer.append(name)\n",
    "    \n",
    "    print(answer)\n",
    "                \n"
   ]
  },
  {
   "cell_type": "code",
   "execution_count": 42,
   "metadata": {},
   "outputs": [
    {
     "output_type": "stream",
     "name": "stdout",
     "text": "['mislav']\n"
    }
   ],
   "source": [
    "solution(participant,completion)"
   ]
  },
  {
   "cell_type": "code",
   "execution_count": 21,
   "metadata": {},
   "outputs": [],
   "source": [
    "for name, left in dic.items() :\n",
    "        if left > 0 :\n",
    "            for i in range(left) :\n",
    "                answer.append(name)"
   ]
  },
  {
   "cell_type": "code",
   "execution_count": 22,
   "metadata": {},
   "outputs": [
    {
     "output_type": "execute_result",
     "data": {
      "text/plain": "['mislav']"
     },
     "metadata": {},
     "execution_count": 22
    }
   ],
   "source": [
    "answer"
   ]
  }
 ],
 "metadata": {
  "kernelspec": {
   "display_name": "Python 3.7.4 64-bit ('base': conda)",
   "language": "python",
   "name": "python37464bitbaseconda3e0aee77590f4581a230f2d96c336508"
  },
  "language_info": {
   "codemirror_mode": {
    "name": "ipython",
    "version": 3
   },
   "file_extension": ".py",
   "mimetype": "text/x-python",
   "name": "python",
   "nbconvert_exporter": "python",
   "pygments_lexer": "ipython3",
   "version": "3.7.4-final"
  }
 },
 "nbformat": 4,
 "nbformat_minor": 2
}