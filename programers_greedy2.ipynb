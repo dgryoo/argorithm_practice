{
 "cells": [
  {
   "cell_type": "code",
   "execution_count": null,
   "metadata": {},
   "outputs": [],
   "source": [
    "# 큰수만들기\n",
    "# number는 1자리 이상, 1,000,000자리 이하인 숫자입니다.\n",
    "# k는 1 이상 number의 자릿수 미만인 자연수입니다.\n",
    "# test case\n",
    "# number        k\t    return\n",
    "# 1924          2\t    94\n",
    "# 1231234\t    3\t    3234\n",
    "# 4177252841\t4\t    775841"
   ]
  },
  {
   "cell_type": "code",
   "execution_count": null,
   "metadata": {
    "tags": [
     "outputPrepend",
     "outputPrepend",
     "outputPrepend",
     "outputPrepend",
     "outputPrepend",
     "outputPrepend",
     "outputPrepend",
     "outputPrepend",
     "outputPrepend",
     "outputPrepend",
     "outputPrepend",
     "outputPrepend",
     "outputPrepend",
     "outputPrepend",
     "outputPrepend",
     "outputPrepend",
     "outputPrepend",
     "outputPrepend",
     "outputPrepend",
     "outputPrepend"
    ]
   },
   "outputs": [],
   "source": [
    "# 첫번째시도\n",
    "# 결과 : 실패 \n",
    "# 원인 : 문제를 이해를 잘못했음 배치를 바꾸는게 아니고 사이의 수를 없애야함\n",
    "\n",
    "def solution(number, k):\n",
    "    answer = ''\n",
    "    number_search = [\"9\",\"8\",\"7\",\"6\",\"5\",\"4\",\"3\",\"2\",\"1\",\"0\"]\n",
    "    while (len(answer) == len(number) - k) :\n",
    "        for n in number_search :\n",
    "            if n in number :\n",
    "                answer += n\n",
    "                number = number.replace(n,\"\",1)\n",
    "    \n",
    "    return answer           "
   ]
  },
  {
   "cell_type": "code",
   "execution_count": null,
   "metadata": {},
   "outputs": [],
   "source": [
    "# 두번째시도\n",
    "# 결과 : 실패\n",
    "# 원인찾는중\n",
    "\n",
    "def solution(number, k):\n",
    "    answer = ''\n",
    "    n_length = len(number) - k\n",
    "    \n",
    "    while True :\n",
    "        if len(answer) == n_length :\n",
    "            break\n",
    "        if k == 0 :\n",
    "            answer += number\n",
    "        else :\n",
    "            a = max(number[0:len(number)-(k-1)])\n",
    "            answer += a\n",
    "            number = number[number.find(a)+1:len(number)]\n",
    "            k = k - 1\n",
    "    return answer"
   ]
  },
  {
   "cell_type": "code",
   "execution_count": null,
   "metadata": {},
   "outputs": [],
   "source": [
    "solution(number,k)"
   ]
  }
 ],
 "metadata": {
  "language_info": {
   "codemirror_mode": {
    "name": "ipython",
    "version": 3
   },
   "file_extension": ".py",
   "mimetype": "text/x-python",
   "name": "python",
   "nbconvert_exporter": "python",
   "pygments_lexer": "ipython3",
   "version": "3.7.4-final"
  },
  "orig_nbformat": 2,
  "kernelspec": {
   "name": "python37464bitbaseconda3e0aee77590f4581a230f2d96c336508",
   "display_name": "Python 3.7.4 64-bit ('base': conda)"
  }
 },
 "nbformat": 4,
 "nbformat_minor": 2
}